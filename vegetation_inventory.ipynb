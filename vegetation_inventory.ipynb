{
 "cells": [
  {
   "cell_type": "code",
   "id": "initial_id",
   "metadata": {
    "ExecuteTime": {
     "end_time": "2025-06-14T18:41:30.697747Z",
     "start_time": "2025-06-14T18:41:30.695736Z"
    }
   },
   "source": [
    "import pandas as pd"
   ],
   "outputs": [],
   "execution_count": 59
  },
  {
   "cell_type": "code",
   "id": "322ec01f12abe265",
   "metadata": {
    "ExecuteTime": {
     "end_time": "2025-06-14T18:41:31.175800Z",
     "start_time": "2025-06-14T18:41:30.699112Z"
    }
   },
   "source": [
    "data = pd.read_csv('PrimaryLandAndVegetationInventory_ExportTable.csv')"
   ],
   "outputs": [],
   "execution_count": 60
  },
  {
   "cell_type": "code",
   "id": "ef6d442e63ba9303",
   "metadata": {
    "ExecuteTime": {
     "end_time": "2025-06-14T18:41:31.179815Z",
     "start_time": "2025-06-14T18:41:31.177044Z"
    }
   },
   "source": [
    "df = pd.DataFrame(data)"
   ],
   "outputs": [],
   "execution_count": 61
  },
  {
   "cell_type": "code",
   "id": "2ca9660a7220076d",
   "metadata": {
    "scrolled": true,
    "ExecuteTime": {
     "end_time": "2025-06-14T18:41:31.189280Z",
     "start_time": "2025-06-14T18:41:31.180792Z"
    }
   },
   "source": [
    "df.head()"
   ],
   "outputs": [
    {
     "data": {
      "text/plain": [
       "   POLYGON_ID NSR PRIME_CLS1 LAND_CLS1 SITE_TYP1  SITE_PCT1 RNG_SITE1  \\\n",
       "0         212  CM        VEG       WET        TF          8             \n",
       "1         213  CM        VEG       NAW        FT          8             \n",
       "2         214  CM        VEG       NAW        FT          8             \n",
       "3         215  CM        VEG       NNW        OS          5             \n",
       "4         216  CM        VEG       NAW        FT          8             \n",
       "\n",
       "  MAP_CODE1  ECO_PH1_ID ECO_PHASE1  ... SER_SUCC3  DIST3 DIST_PCT3 DIST_YR3  \\\n",
       "0        9C        3071         j1  ...        XS     UK         0        0   \n",
       "1        5C        3030         d1  ...                          0        0   \n",
       "2        5C        3030         d1  ...                          0        0   \n",
       "3        5D        3106         e4  ...                          0        0   \n",
       "4        5C        3030         d1  ...                          0        0   \n",
       "\n",
       "  HARV_YR3 ANTH_IMP  IMAGE_YR   UTM_HA  SUBMISSION  FireRisk  \n",
       "0        0        0         0  48.0130           2         2  \n",
       "1        0        0         0  35.7348           2         1  \n",
       "2        0        0         0  33.5634           2         1  \n",
       "3        0        0         0  14.4911           2         2  \n",
       "4        0        0         0  76.6711           2         1  \n",
       "\n",
       "[5 rows x 59 columns]"
      ],
      "text/html": [
       "<div>\n",
       "<style scoped>\n",
       "    .dataframe tbody tr th:only-of-type {\n",
       "        vertical-align: middle;\n",
       "    }\n",
       "\n",
       "    .dataframe tbody tr th {\n",
       "        vertical-align: top;\n",
       "    }\n",
       "\n",
       "    .dataframe thead th {\n",
       "        text-align: right;\n",
       "    }\n",
       "</style>\n",
       "<table border=\"1\" class=\"dataframe\">\n",
       "  <thead>\n",
       "    <tr style=\"text-align: right;\">\n",
       "      <th></th>\n",
       "      <th>POLYGON_ID</th>\n",
       "      <th>NSR</th>\n",
       "      <th>PRIME_CLS1</th>\n",
       "      <th>LAND_CLS1</th>\n",
       "      <th>SITE_TYP1</th>\n",
       "      <th>SITE_PCT1</th>\n",
       "      <th>RNG_SITE1</th>\n",
       "      <th>MAP_CODE1</th>\n",
       "      <th>ECO_PH1_ID</th>\n",
       "      <th>ECO_PHASE1</th>\n",
       "      <th>...</th>\n",
       "      <th>SER_SUCC3</th>\n",
       "      <th>DIST3</th>\n",
       "      <th>DIST_PCT3</th>\n",
       "      <th>DIST_YR3</th>\n",
       "      <th>HARV_YR3</th>\n",
       "      <th>ANTH_IMP</th>\n",
       "      <th>IMAGE_YR</th>\n",
       "      <th>UTM_HA</th>\n",
       "      <th>SUBMISSION</th>\n",
       "      <th>FireRisk</th>\n",
       "    </tr>\n",
       "  </thead>\n",
       "  <tbody>\n",
       "    <tr>\n",
       "      <th>0</th>\n",
       "      <td>212</td>\n",
       "      <td>CM</td>\n",
       "      <td>VEG</td>\n",
       "      <td>WET</td>\n",
       "      <td>TF</td>\n",
       "      <td>8</td>\n",
       "      <td></td>\n",
       "      <td>9C</td>\n",
       "      <td>3071</td>\n",
       "      <td>j1</td>\n",
       "      <td>...</td>\n",
       "      <td>XS</td>\n",
       "      <td>UK</td>\n",
       "      <td>0</td>\n",
       "      <td>0</td>\n",
       "      <td>0</td>\n",
       "      <td>0</td>\n",
       "      <td>0</td>\n",
       "      <td>48.0130</td>\n",
       "      <td>2</td>\n",
       "      <td>2</td>\n",
       "    </tr>\n",
       "    <tr>\n",
       "      <th>1</th>\n",
       "      <td>213</td>\n",
       "      <td>CM</td>\n",
       "      <td>VEG</td>\n",
       "      <td>NAW</td>\n",
       "      <td>FT</td>\n",
       "      <td>8</td>\n",
       "      <td></td>\n",
       "      <td>5C</td>\n",
       "      <td>3030</td>\n",
       "      <td>d1</td>\n",
       "      <td>...</td>\n",
       "      <td></td>\n",
       "      <td></td>\n",
       "      <td>0</td>\n",
       "      <td>0</td>\n",
       "      <td>0</td>\n",
       "      <td>0</td>\n",
       "      <td>0</td>\n",
       "      <td>35.7348</td>\n",
       "      <td>2</td>\n",
       "      <td>1</td>\n",
       "    </tr>\n",
       "    <tr>\n",
       "      <th>2</th>\n",
       "      <td>214</td>\n",
       "      <td>CM</td>\n",
       "      <td>VEG</td>\n",
       "      <td>NAW</td>\n",
       "      <td>FT</td>\n",
       "      <td>8</td>\n",
       "      <td></td>\n",
       "      <td>5C</td>\n",
       "      <td>3030</td>\n",
       "      <td>d1</td>\n",
       "      <td>...</td>\n",
       "      <td></td>\n",
       "      <td></td>\n",
       "      <td>0</td>\n",
       "      <td>0</td>\n",
       "      <td>0</td>\n",
       "      <td>0</td>\n",
       "      <td>0</td>\n",
       "      <td>33.5634</td>\n",
       "      <td>2</td>\n",
       "      <td>1</td>\n",
       "    </tr>\n",
       "    <tr>\n",
       "      <th>3</th>\n",
       "      <td>215</td>\n",
       "      <td>CM</td>\n",
       "      <td>VEG</td>\n",
       "      <td>NNW</td>\n",
       "      <td>OS</td>\n",
       "      <td>5</td>\n",
       "      <td></td>\n",
       "      <td>5D</td>\n",
       "      <td>3106</td>\n",
       "      <td>e4</td>\n",
       "      <td>...</td>\n",
       "      <td></td>\n",
       "      <td></td>\n",
       "      <td>0</td>\n",
       "      <td>0</td>\n",
       "      <td>0</td>\n",
       "      <td>0</td>\n",
       "      <td>0</td>\n",
       "      <td>14.4911</td>\n",
       "      <td>2</td>\n",
       "      <td>2</td>\n",
       "    </tr>\n",
       "    <tr>\n",
       "      <th>4</th>\n",
       "      <td>216</td>\n",
       "      <td>CM</td>\n",
       "      <td>VEG</td>\n",
       "      <td>NAW</td>\n",
       "      <td>FT</td>\n",
       "      <td>8</td>\n",
       "      <td></td>\n",
       "      <td>5C</td>\n",
       "      <td>3030</td>\n",
       "      <td>d1</td>\n",
       "      <td>...</td>\n",
       "      <td></td>\n",
       "      <td></td>\n",
       "      <td>0</td>\n",
       "      <td>0</td>\n",
       "      <td>0</td>\n",
       "      <td>0</td>\n",
       "      <td>0</td>\n",
       "      <td>76.6711</td>\n",
       "      <td>2</td>\n",
       "      <td>1</td>\n",
       "    </tr>\n",
       "  </tbody>\n",
       "</table>\n",
       "<p>5 rows × 59 columns</p>\n",
       "</div>"
      ]
     },
     "execution_count": 62,
     "metadata": {},
     "output_type": "execute_result"
    }
   ],
   "execution_count": 62
  },
  {
   "cell_type": "code",
   "id": "23d6a54ee1387dd2",
   "metadata": {
    "ExecuteTime": {
     "end_time": "2025-06-14T18:41:31.193813Z",
     "start_time": "2025-06-14T18:41:31.190515Z"
    }
   },
   "source": [
    "df.columns"
   ],
   "outputs": [
    {
     "data": {
      "text/plain": [
       "Index(['POLYGON_ID', 'NSR', 'PRIME_CLS1', 'LAND_CLS1', 'SITE_TYP1',\n",
       "       'SITE_PCT1', 'RNG_SITE1', 'MAP_CODE1', 'ECO_PH1_ID', 'ECO_PHASE1',\n",
       "       'DENSITY1', 'CONIF_PCT1', 'LEAD_SP1', 'PNR_SUCC1', 'SER_SUCC1', 'DIST1',\n",
       "       'DIST_PCT1', 'DIST_YR1', 'HARV_YR1', 'PINE_PCT', 'PRIME_CLS2',\n",
       "       'LAND_CLS2', 'SITE_TYP2', 'SITE_PCT2', 'RNG_SITE2', 'MAP_CODE2',\n",
       "       'ECO_PH2_ID', 'ECO_PHASE2', 'DENSITY2', 'CONIF_PCT2', 'LEAD_SP2',\n",
       "       'PNR_SUCC2', 'SER_SUCC2', 'DIST2', 'DIST_PCT2', 'DIST_YR2', 'HARV_YR2',\n",
       "       'PRIME_CLS3', 'LAND_CLS3', 'SITE_TYP3', 'SITE_PCT3', 'RNG_SITE3',\n",
       "       'MAP_CODE3', 'ECO_PH3_ID', 'ECO_PHASE3', 'DENSITY3', 'CONIF_PCT3',\n",
       "       'LEAD_SP3', 'PNR_SUCC3', 'SER_SUCC3', 'DIST3', 'DIST_PCT3', 'DIST_YR3',\n",
       "       'HARV_YR3', 'ANTH_IMP', 'IMAGE_YR', 'UTM_HA', 'SUBMISSION', 'FireRisk'],\n",
       "      dtype='object')"
      ]
     },
     "execution_count": 63,
     "metadata": {},
     "output_type": "execute_result"
    }
   ],
   "execution_count": 63
  },
  {
   "cell_type": "code",
   "id": "8139a2ef02aa9b85",
   "metadata": {
    "ExecuteTime": {
     "end_time": "2025-06-14T18:41:31.197829Z",
     "start_time": "2025-06-14T18:41:31.194637Z"
    }
   },
   "source": [
    "def classify_fire_risk(sp1, sp2, sp3, cp1, cp2, cp3, dist_yr):\n",
    "    import datetime\n",
    "    conifers = {'SW', 'SB', 'PL', 'JP', 'PW', 'LW'}\n",
    "    deciduous = {'AW', 'BW', 'PB', 'PO', 'WI'}\n",
    "    \n",
    "    current_year = datetime.datetime.now().year\n",
    "\n",
    "    # Normalize species\n",
    "    species = {sp1.upper(), sp2.upper(), sp3.upper()}\n",
    "    \n",
    "    # Total conifer percent (handle None as 0)\n",
    "    conif_total = (cp1 or 0) + (cp2 or 0) + (cp3 or 0)\n",
    "    \n",
    "    # Calculate years since disturbance\n",
    "    if dist_yr and 1900 < dist_yr <= current_year:\n",
    "        years_since = current_year - dist_yr\n",
    "    else:\n",
    "        years_since = None  # No reliable disturbance info\n",
    "\n",
    "    # If recent disturbance within 10 years, reduce fire risk\n",
    "    if years_since is not None and years_since <= 10:\n",
    "        return 1  # Recent disturbance = lower risk\n",
    "\n",
    "    if species & conifers or conif_total >= 60:\n",
    "        return 3  # High risk\n",
    "    elif species <= deciduous and conif_total < 25:\n",
    "        return 1  # Low risk\n",
    "    else:\n",
    "        return 2  # Moderate risk\n"
   ],
   "outputs": [],
   "execution_count": 64
  },
  {
   "cell_type": "code",
   "id": "27737a6931b270bf",
   "metadata": {
    "ExecuteTime": {
     "end_time": "2025-06-14T18:41:31.201836Z",
     "start_time": "2025-06-14T18:41:31.199182Z"
    }
   },
   "source": [
    "required_cols = [\"LEAD_SP1\", \"LEAD_SP2\", \"LEAD_SP3\", \"CONIF_PCT1\", \"CONIF_PCT2\", \"CONIF_PCT3\", \"DIST_YR1\"]"
   ],
   "outputs": [],
   "execution_count": 65
  },
  {
   "cell_type": "code",
   "id": "13de9413a1487664",
   "metadata": {
    "ExecuteTime": {
     "end_time": "2025-06-14T18:41:32.879281Z",
     "start_time": "2025-06-14T18:41:31.202833Z"
    }
   },
   "source": [
    "df['FireRisk'] = df.apply(lambda row: classify_fire_risk(*[row[col] for col in required_cols]), axis=1)"
   ],
   "outputs": [],
   "execution_count": 66
  },
  {
   "cell_type": "code",
   "id": "5227beb648ae034b",
   "metadata": {
    "ExecuteTime": {
     "end_time": "2025-06-14T18:41:32.891034Z",
     "start_time": "2025-06-14T18:41:32.880423Z"
    }
   },
   "source": [
    "df[required_cols + ['FireRisk']].head()"
   ],
   "outputs": [
    {
     "data": {
      "text/plain": [
       "  LEAD_SP1 LEAD_SP2 LEAD_SP3  CONIF_PCT1  CONIF_PCT2  CONIF_PCT3  DIST_YR1  \\\n",
       "0                         Aw           0           0           0         0   \n",
       "1       Aw       Aw                    1           1           0         0   \n",
       "2       Aw       Aw                    1           1           0         0   \n",
       "3                                      0           0           0         0   \n",
       "4       Aw       Pb                    1           0           0         0   \n",
       "\n",
       "   FireRisk  \n",
       "0         2  \n",
       "1         2  \n",
       "2         2  \n",
       "3         2  \n",
       "4         2  "
      ],
      "text/html": [
       "<div>\n",
       "<style scoped>\n",
       "    .dataframe tbody tr th:only-of-type {\n",
       "        vertical-align: middle;\n",
       "    }\n",
       "\n",
       "    .dataframe tbody tr th {\n",
       "        vertical-align: top;\n",
       "    }\n",
       "\n",
       "    .dataframe thead th {\n",
       "        text-align: right;\n",
       "    }\n",
       "</style>\n",
       "<table border=\"1\" class=\"dataframe\">\n",
       "  <thead>\n",
       "    <tr style=\"text-align: right;\">\n",
       "      <th></th>\n",
       "      <th>LEAD_SP1</th>\n",
       "      <th>LEAD_SP2</th>\n",
       "      <th>LEAD_SP3</th>\n",
       "      <th>CONIF_PCT1</th>\n",
       "      <th>CONIF_PCT2</th>\n",
       "      <th>CONIF_PCT3</th>\n",
       "      <th>DIST_YR1</th>\n",
       "      <th>FireRisk</th>\n",
       "    </tr>\n",
       "  </thead>\n",
       "  <tbody>\n",
       "    <tr>\n",
       "      <th>0</th>\n",
       "      <td></td>\n",
       "      <td></td>\n",
       "      <td>Aw</td>\n",
       "      <td>0</td>\n",
       "      <td>0</td>\n",
       "      <td>0</td>\n",
       "      <td>0</td>\n",
       "      <td>2</td>\n",
       "    </tr>\n",
       "    <tr>\n",
       "      <th>1</th>\n",
       "      <td>Aw</td>\n",
       "      <td>Aw</td>\n",
       "      <td></td>\n",
       "      <td>1</td>\n",
       "      <td>1</td>\n",
       "      <td>0</td>\n",
       "      <td>0</td>\n",
       "      <td>2</td>\n",
       "    </tr>\n",
       "    <tr>\n",
       "      <th>2</th>\n",
       "      <td>Aw</td>\n",
       "      <td>Aw</td>\n",
       "      <td></td>\n",
       "      <td>1</td>\n",
       "      <td>1</td>\n",
       "      <td>0</td>\n",
       "      <td>0</td>\n",
       "      <td>2</td>\n",
       "    </tr>\n",
       "    <tr>\n",
       "      <th>3</th>\n",
       "      <td></td>\n",
       "      <td></td>\n",
       "      <td></td>\n",
       "      <td>0</td>\n",
       "      <td>0</td>\n",
       "      <td>0</td>\n",
       "      <td>0</td>\n",
       "      <td>2</td>\n",
       "    </tr>\n",
       "    <tr>\n",
       "      <th>4</th>\n",
       "      <td>Aw</td>\n",
       "      <td>Pb</td>\n",
       "      <td></td>\n",
       "      <td>1</td>\n",
       "      <td>0</td>\n",
       "      <td>0</td>\n",
       "      <td>0</td>\n",
       "      <td>2</td>\n",
       "    </tr>\n",
       "  </tbody>\n",
       "</table>\n",
       "</div>"
      ]
     },
     "execution_count": 67,
     "metadata": {},
     "output_type": "execute_result"
    }
   ],
   "execution_count": 67
  },
  {
   "cell_type": "code",
   "id": "9744847715b96cc6",
   "metadata": {
    "ExecuteTime": {
     "end_time": "2025-06-14T18:41:33.944671Z",
     "start_time": "2025-06-14T18:41:32.891910Z"
    }
   },
   "source": "df.to_csv('FireRiskResults.csv', index=False)",
   "outputs": [],
   "execution_count": 68
  },
  {
   "metadata": {
    "ExecuteTime": {
     "end_time": "2025-06-14T18:41:33.952729Z",
     "start_time": "2025-06-14T18:41:33.947046Z"
    }
   },
   "cell_type": "code",
   "source": "number_of_polygons_per_fire_risk = df.groupby('FireRisk')['POLYGON_ID'].count()",
   "id": "72bebe0223e83a6d",
   "outputs": [],
   "execution_count": 69
  },
  {
   "metadata": {
    "ExecuteTime": {
     "end_time": "2025-06-14T18:41:33.957229Z",
     "start_time": "2025-06-14T18:41:33.953800Z"
    }
   },
   "cell_type": "code",
   "source": "number_of_polygons_per_fire_risk",
   "id": "9fe50b5812e9301c",
   "outputs": [
    {
     "data": {
      "text/plain": [
       "FireRisk\n",
       "1       642\n",
       "2    159452\n",
       "3     18993\n",
       "Name: POLYGON_ID, dtype: int64"
      ]
     },
     "execution_count": 70,
     "metadata": {},
     "output_type": "execute_result"
    }
   ],
   "execution_count": 70
  },
  {
   "metadata": {
    "ExecuteTime": {
     "end_time": "2025-06-14T18:41:33.960308Z",
     "start_time": "2025-06-14T18:41:33.958137Z"
    }
   },
   "cell_type": "code",
   "source": "number_of_polygons_per_fire_risk.index = ['Low Risk', 'Moderate Risk', 'High Risk']",
   "id": "eddf21e4ace00b2c",
   "outputs": [],
   "execution_count": 71
  },
  {
   "metadata": {
    "ExecuteTime": {
     "end_time": "2025-06-14T18:41:33.969795Z",
     "start_time": "2025-06-14T18:41:33.961553Z"
    }
   },
   "cell_type": "code",
   "source": "number_of_polygons_per_fire_risk.to_csv('polygon_count_per_FireRisk.csv')",
   "id": "6e836d919b3def52",
   "outputs": [],
   "execution_count": 72
  },
  {
   "metadata": {
    "ExecuteTime": {
     "end_time": "2025-06-14T18:41:33.972333Z",
     "start_time": "2025-06-14T18:41:33.970694Z"
    }
   },
   "cell_type": "code",
   "source": "",
   "id": "47a62243c907059a",
   "outputs": [],
   "execution_count": 72
  },
  {
   "metadata": {},
   "cell_type": "code",
   "outputs": [],
   "execution_count": null,
   "source": "",
   "id": "63bab8ab7a27fbb8"
  },
  {
   "metadata": {},
   "cell_type": "code",
   "outputs": [],
   "execution_count": null,
   "source": "",
   "id": "4d828e57d1bd0b98"
  },
  {
   "metadata": {},
   "cell_type": "code",
   "outputs": [],
   "execution_count": null,
   "source": "",
   "id": "d77e29a27a33ab60"
  }
 ],
 "metadata": {
  "kernelspec": {
   "display_name": "Python 3 (ipykernel)",
   "language": "python",
   "name": "python3"
  },
  "language_info": {
   "codemirror_mode": {
    "name": "ipython",
    "version": 3
   },
   "file_extension": ".py",
   "mimetype": "text/x-python",
   "name": "python",
   "nbconvert_exporter": "python",
   "pygments_lexer": "ipython3",
   "version": "3.13.2"
  }
 },
 "nbformat": 4,
 "nbformat_minor": 5
}
